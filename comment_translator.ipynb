{
 "cells": [
  {
   "cell_type": "code",
   "execution_count": 1,
   "id": "4e5735f7",
   "metadata": {},
   "outputs": [
    {
     "name": "stderr",
     "output_type": "stream",
     "text": [
      "Using United States server backend.\n"
     ]
    }
   ],
   "source": [
    "# import translation module\n",
    "import translators as ts\n",
    "\n",
    "# import pandas for reading '.csv's and editing dataframes\n",
    "import pandas as pd \n",
    "\n",
    "# use tqdm to keep track of the status of 'for' loops / pandas.apply()\n",
    "from tqdm import tqdm\n",
    "tqdm.pandas()\n",
    "\n",
    "# use 'sleep' to slow down translation (so API doesn't crash)\n",
    "from time import sleep"
   ]
  },
  {
   "cell_type": "code",
   "execution_count": 2,
   "id": "cf4409e8",
   "metadata": {},
   "outputs": [],
   "source": [
    "# import data: change the name and location of the file\n",
    "# the way its currently set up assumes you have seperate comment and label datasets\n",
    "comments_df = pd.read_csv('Datasets/jigsaw_multilingual/test.csv')\n",
    "labels = pd.read_csv('Datasets/jigsaw_multilingual/test_labels.csv')"
   ]
  },
  {
   "cell_type": "code",
   "execution_count": 3,
   "id": "44122668",
   "metadata": {},
   "outputs": [
    {
     "data": {
      "text/html": [
       "<div>\n",
       "<style scoped>\n",
       "    .dataframe tbody tr th:only-of-type {\n",
       "        vertical-align: middle;\n",
       "    }\n",
       "\n",
       "    .dataframe tbody tr th {\n",
       "        vertical-align: top;\n",
       "    }\n",
       "\n",
       "    .dataframe thead th {\n",
       "        text-align: right;\n",
       "    }\n",
       "</style>\n",
       "<table border=\"1\" class=\"dataframe\">\n",
       "  <thead>\n",
       "    <tr style=\"text-align: right;\">\n",
       "      <th></th>\n",
       "      <th>id</th>\n",
       "      <th>content</th>\n",
       "      <th>lang</th>\n",
       "    </tr>\n",
       "  </thead>\n",
       "  <tbody>\n",
       "    <tr>\n",
       "      <th>0</th>\n",
       "      <td>0</td>\n",
       "      <td>Doctor Who adlı viki başlığına 12. doctor olar...</td>\n",
       "      <td>tr</td>\n",
       "    </tr>\n",
       "    <tr>\n",
       "      <th>1</th>\n",
       "      <td>1</td>\n",
       "      <td>Вполне возможно, но я пока не вижу необходимо...</td>\n",
       "      <td>ru</td>\n",
       "    </tr>\n",
       "    <tr>\n",
       "      <th>2</th>\n",
       "      <td>2</td>\n",
       "      <td>Quindi tu sei uno di quelli   conservativi  , ...</td>\n",
       "      <td>it</td>\n",
       "    </tr>\n",
       "    <tr>\n",
       "      <th>3</th>\n",
       "      <td>3</td>\n",
       "      <td>Malesef gerçekleştirilmedi ancak şöyle bir şey...</td>\n",
       "      <td>tr</td>\n",
       "    </tr>\n",
       "    <tr>\n",
       "      <th>4</th>\n",
       "      <td>4</td>\n",
       "      <td>:Resim:Seldabagcan.jpg resminde kaynak sorunu ...</td>\n",
       "      <td>tr</td>\n",
       "    </tr>\n",
       "    <tr>\n",
       "      <th>5</th>\n",
       "      <td>5</td>\n",
       "      <td>Le truc le plus important dans ta tirade c est...</td>\n",
       "      <td>fr</td>\n",
       "    </tr>\n",
       "    <tr>\n",
       "      <th>6</th>\n",
       "      <td>6</td>\n",
       "      <td>20px Caro editor, encontramos problemas na edi...</td>\n",
       "      <td>pt</td>\n",
       "    </tr>\n",
       "    <tr>\n",
       "      <th>7</th>\n",
       "      <td>7</td>\n",
       "      <td>el skate es unos de los deportes favoritos de ...</td>\n",
       "      <td>es</td>\n",
       "    </tr>\n",
       "  </tbody>\n",
       "</table>\n",
       "</div>"
      ],
      "text/plain": [
       "   id                                            content lang\n",
       "0   0  Doctor Who adlı viki başlığına 12. doctor olar...   tr\n",
       "1   1   Вполне возможно, но я пока не вижу необходимо...   ru\n",
       "2   2  Quindi tu sei uno di quelli   conservativi  , ...   it\n",
       "3   3  Malesef gerçekleştirilmedi ancak şöyle bir şey...   tr\n",
       "4   4  :Resim:Seldabagcan.jpg resminde kaynak sorunu ...   tr\n",
       "5   5  Le truc le plus important dans ta tirade c est...   fr\n",
       "6   6  20px Caro editor, encontramos problemas na edi...   pt\n",
       "7   7  el skate es unos de los deportes favoritos de ...   es"
      ]
     },
     "execution_count": 3,
     "metadata": {},
     "output_type": "execute_result"
    }
   ],
   "source": [
    "# display the first few comments\n",
    "comments_df.head(5)"
   ]
  },
  {
   "cell_type": "code",
   "execution_count": 4,
   "id": "b24b8a4a",
   "metadata": {},
   "outputs": [],
   "source": [
    "# specify the number of comments to be translated (can remove slice if want to translate the whole dataset)\n",
    "num_comments = 2000\n",
    "comments_df = comments_df[:num_comments]"
   ]
  },
  {
   "cell_type": "code",
   "execution_count": 5,
   "id": "57a7cdd9",
   "metadata": {},
   "outputs": [],
   "source": [
    "# translation function:\n",
    "# it trys to translate the comment, but if it can't then it return 'ERROR' and prints 'Error'\n",
    "def translate(comment):\n",
    "    try:\n",
    "        # translate using another API by change ts.<translation api>(google)\n",
    "        c = ts.google(comment)\n",
    "    except:\n",
    "        # maybe consider editing this to give more information on the nature of the error\n",
    "        c = 'ERROR'\n",
    "        print('Error')\n",
    "    return c"
   ]
  },
  {
   "cell_type": "code",
   "execution_count": 6,
   "id": "8d5ff383",
   "metadata": {
    "scrolled": true
   },
   "outputs": [
    {
     "name": "stderr",
     "output_type": "stream",
     "text": [
      "  7%|██▉                                     | 147/2000 [02:39<34:39,  1.12s/it]"
     ]
    },
    {
     "name": "stdout",
     "output_type": "stream",
     "text": [
      "Error\n"
     ]
    },
    {
     "name": "stderr",
     "output_type": "stream",
     "text": [
      " 43%|███████████████▊                     | 855/2000 [15:47<24:43:55, 77.76s/it]"
     ]
    },
    {
     "name": "stdout",
     "output_type": "stream",
     "text": [
      "Error\n"
     ]
    },
    {
     "name": "stderr",
     "output_type": "stream",
     "text": [
      "100%|███████████████████████████████████████| 2000/2000 [21:56<00:00,  1.52it/s]\n"
     ]
    }
   ],
   "source": [
    "# applys the translation function to all the comments in the column titled \"content\"\n",
    "# '.progress_apply()' is used instead of '.apply()' so you can keep track of the progress of the translation\n",
    "comments_df[\"content\"] = comments_df[\"content\"].progress_apply(translate)"
   ]
  },
  {
   "cell_type": "code",
   "execution_count": 7,
   "id": "84cf62e8",
   "metadata": {},
   "outputs": [
    {
     "data": {
      "text/html": [
       "<div>\n",
       "<style scoped>\n",
       "    .dataframe tbody tr th:only-of-type {\n",
       "        vertical-align: middle;\n",
       "    }\n",
       "\n",
       "    .dataframe tbody tr th {\n",
       "        vertical-align: top;\n",
       "    }\n",
       "\n",
       "    .dataframe thead th {\n",
       "        text-align: right;\n",
       "    }\n",
       "</style>\n",
       "<table border=\"1\" class=\"dataframe\">\n",
       "  <thead>\n",
       "    <tr style=\"text-align: right;\">\n",
       "      <th></th>\n",
       "      <th>id</th>\n",
       "      <th>toxic</th>\n",
       "    </tr>\n",
       "  </thead>\n",
       "  <tbody>\n",
       "    <tr>\n",
       "      <th>0</th>\n",
       "      <td>0</td>\n",
       "      <td>0</td>\n",
       "    </tr>\n",
       "    <tr>\n",
       "      <th>1</th>\n",
       "      <td>1</td>\n",
       "      <td>0</td>\n",
       "    </tr>\n",
       "    <tr>\n",
       "      <th>2</th>\n",
       "      <td>2</td>\n",
       "      <td>1</td>\n",
       "    </tr>\n",
       "    <tr>\n",
       "      <th>3</th>\n",
       "      <td>3</td>\n",
       "      <td>0</td>\n",
       "    </tr>\n",
       "    <tr>\n",
       "      <th>4</th>\n",
       "      <td>4</td>\n",
       "      <td>0</td>\n",
       "    </tr>\n",
       "    <tr>\n",
       "      <th>...</th>\n",
       "      <td>...</td>\n",
       "      <td>...</td>\n",
       "    </tr>\n",
       "    <tr>\n",
       "      <th>1995</th>\n",
       "      <td>1995</td>\n",
       "      <td>0</td>\n",
       "    </tr>\n",
       "    <tr>\n",
       "      <th>1996</th>\n",
       "      <td>1996</td>\n",
       "      <td>0</td>\n",
       "    </tr>\n",
       "    <tr>\n",
       "      <th>1997</th>\n",
       "      <td>1997</td>\n",
       "      <td>0</td>\n",
       "    </tr>\n",
       "    <tr>\n",
       "      <th>1998</th>\n",
       "      <td>1998</td>\n",
       "      <td>1</td>\n",
       "    </tr>\n",
       "    <tr>\n",
       "      <th>1999</th>\n",
       "      <td>1999</td>\n",
       "      <td>0</td>\n",
       "    </tr>\n",
       "  </tbody>\n",
       "</table>\n",
       "<p>2000 rows × 2 columns</p>\n",
       "</div>"
      ],
      "text/plain": [
       "        id  toxic\n",
       "0        0      0\n",
       "1        1      0\n",
       "2        2      1\n",
       "3        3      0\n",
       "4        4      0\n",
       "...    ...    ...\n",
       "1995  1995      0\n",
       "1996  1996      0\n",
       "1997  1997      0\n",
       "1998  1998      1\n",
       "1999  1999      0\n",
       "\n",
       "[2000 rows x 2 columns]"
      ]
     },
     "execution_count": 7,
     "metadata": {},
     "output_type": "execute_result"
    }
   ],
   "source": [
    "# aquires the labels (again may have to change if labels are in the same dataset)\n",
    "labels = labels[:num_comments]\n",
    "labels.head(5)"
   ]
  },
  {
   "cell_type": "code",
   "execution_count": 8,
   "id": "98c8a577",
   "metadata": {},
   "outputs": [
    {
     "data": {
      "text/plain": [
       "0    1538\n",
       "1     462\n",
       "Name: toxic, dtype: int64"
      ]
     },
     "execution_count": 8,
     "metadata": {},
     "output_type": "execute_result"
    }
   ],
   "source": [
    "# find how many comments are toxic (1) or non toxic (1)\n",
    "labels.toxic.value_counts()"
   ]
  },
  {
   "cell_type": "code",
   "execution_count": 10,
   "id": "26f189b8",
   "metadata": {},
   "outputs": [],
   "source": [
    "# adds the label column to the dataframe \n",
    "istoxic = labels[\"toxic\"]\n",
    "translated_df = comments_df.join(istoxic)\n",
    "translated_df.head()"
   ]
  },
  {
   "cell_type": "code",
   "execution_count": 12,
   "id": "2ecd7273",
   "metadata": {},
   "outputs": [],
   "source": [
    "# saves the dataframe of translated comments with the attached labels as a '.csv'\n",
    "# !!!MAKE SURE TO CHANGE THE NAME SO YOU DON\"T OVERWRITE PREVIOUS FILES!!!\n",
    "translated_df.to_csv('translated_jigsaw.csv')"
   ]
  },
  {
   "cell_type": "code",
   "execution_count": null,
   "id": "68ce0ebb",
   "metadata": {},
   "outputs": [],
   "source": []
  }
 ],
 "metadata": {
  "kernelspec": {
   "display_name": "TF",
   "language": "python",
   "name": "tf"
  },
  "language_info": {
   "codemirror_mode": {
    "name": "ipython",
    "version": 3
   },
   "file_extension": ".py",
   "mimetype": "text/x-python",
   "name": "python",
   "nbconvert_exporter": "python",
   "pygments_lexer": "ipython3",
   "version": "3.9.12"
  }
 },
 "nbformat": 4,
 "nbformat_minor": 5
}
